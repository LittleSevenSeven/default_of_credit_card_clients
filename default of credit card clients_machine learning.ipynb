{
 "cells": [
  {
   "cell_type": "markdown",
   "metadata": {},
   "source": [
    "读取数据;\n",
    "将数据分为自变量x和因变量y;\n",
    "过采样SMOTE取得数据集X,Y，并由X,Y随机划分训练集和测试集"
   ]
  },
  {
   "cell_type": "code",
   "execution_count": 1,
   "metadata": {},
   "outputs": [],
   "source": [
    "import pandas as pd\n",
    "from sklearn.model_selection import train_test_split\n",
    "from imblearn.over_sampling import SMOTE\n",
    "\n",
    "\n",
    "def get_data():\n",
    "    data = pd.read_excel('/Users/ycy/Desktop/default_of_credit_card_clients_2.xls', skiprows=[0], header=0, index_col=[0])\n",
    "    x_feature = list(data.columns)\n",
    "    x_feature.remove('default payment next month')\n",
    "    x = data[x_feature]\n",
    "    y = data['default payment next month']\n",
    "    sm = SMOTE(random_state=42)# 处理过采样的方法\n",
    "    X, Y = sm.fit_sample(x, y)\n",
    "    x_train, x_test, y_train, y_test = train_test_split(X, Y, test_size =0.2, random_state =0)\n",
    "    return x_train, x_test, y_train, y_test"
   ]
  },
  {
   "cell_type": "markdown",
   "metadata": {},
   "source": [
    "# 1 decision tree"
   ]
  },
  {
   "cell_type": "markdown",
   "metadata": {},
   "source": [
    "训练模型，计算用时，计算准确率，精确率和召回率（通过混淆矩阵计算）"
   ]
  },
  {
   "cell_type": "code",
   "execution_count": 2,
   "metadata": {},
   "outputs": [],
   "source": [
    "import time\n",
    "from sklearn.metrics import confusion_matrix\n",
    "from sklearn.tree import DecisionTreeClassifier\n",
    "\n",
    "\n",
    "def DT_model(x_train, x_test, y_train, y_test):\n",
    "    #训练模型\n",
    "    start = time.time()\n",
    "    clf_model_DT = DecisionTreeClassifier(criterion=\"gini\",splitter=\"best\",max_depth=5) # 决策树分类器\n",
    "    #参数说明：https://blog.csdn.net/li980828298/article/details/51172744\n",
    "    clf_model_DT.fit(x_train,y_train)\n",
    "    end = time.time()\n",
    "    print(\"Time usage: %s s\" %(end - start))\n",
    "    #评估模型\n",
    "    #confusion matrix\n",
    "    prediction_train = clf_model_DT.predict(x_train)\n",
    "    conf_mat_train = confusion_matrix(y_train, prediction_train)\n",
    "    prediction_test = clf_model_DT.predict(x_test)\n",
    "    conf_mat_test = confusion_matrix(y_test, prediction_test)\n",
    "    print('----DecisionTree----')\n",
    "    print(\"Confusion matrix for training dataset is \\n %s \\n Confusion matrix for testing dataset is \\n %s.\" %(conf_mat_train, conf_mat_test))\n",
    "    \n",
    "    #accuracy\n",
    "    print(\"train accuracy:\", clf_model_DT.score(x_train, y_train))\n",
    "    print(\"test accuracy:\", clf_model_DT.score(x_test, y_test))\n",
    "    \n",
    "    precision_accuracy = conf_mat_test[1,1] / (conf_mat_test[1,1] + conf_mat_test[0,1])\n",
    "    print(\"Precision:\", precision_accuracy)\n",
    "    \n",
    "    recall_accuracy = conf_mat_test[1,1] / (conf_mat_test[1,1] + conf_mat_test[1,0])\n",
    "    print(\"Recall:\", recall_accuracy)\n",
    "    return prediction_test, conf_mat_test"
   ]
  },
  {
   "cell_type": "code",
   "execution_count": 3,
   "metadata": {},
   "outputs": [],
   "source": [
    "import matplotlib.pyplot as plt\n",
    "\n",
    "\n",
    "def cm_plot(conf_mat_test, title):\n",
    "    plt.matshow(conf_mat_test, cmap=plt.cm.Blues) #cm表示colormap\n",
    "    plt.colorbar()\n",
    "    for x in range(len(conf_mat_test)):\n",
    "        for y in range(len(conf_mat_test)):\n",
    "            plt.annotate(conf_mat_test[y,x], xy=(x, y), horizontalalignment='center', verticalalignment='center') #plt.annaotate图形中添加注释\n",
    "    plt.ylabel('True label')\n",
    "    plt.xlabel('Predicted label')\n",
    "    plt.title('%s'%title)\n",
    "    return plt\n",
    "    "
   ]
  },
  {
   "cell_type": "code",
   "execution_count": 4,
   "metadata": {},
   "outputs": [
    {
     "name": "stdout",
     "output_type": "stream",
     "text": [
      "Time usage: 0.2886068820953369 s\n",
      "----DecisionTree----\n",
      "Confusion matrix for training dataset is \n",
      " [[16383  2368]\n",
      " [ 4708 13923]] \n",
      " Confusion matrix for testing dataset is \n",
      " [[3989  624]\n",
      " [1218 3515]].\n",
      "train accuracy: 0.810711037397678\n",
      "test accuracy: 0.8029103359726086\n",
      "Precision: 0.8492389466054603\n",
      "Recall: 0.7426579336572998\n"
     ]
    },
    {
     "data": {
      "image/png": "[encoded data removed]",
      "text/plain": [
       "<Figure size 288x288 with 2 Axes>"
      ]
     },
     "metadata": {},
     "output_type": "display_data"
    }
   ],
   "source": [
    "if __name__ =='__main__':\n",
    "    x_train, x_test, y_train, y_test = get_data()\n",
    "    prediction_test, conf_mat_test = DT_model(x_train, x_test, y_train, y_test)\n",
    "    cm_plot(conf_mat_test, 'DecisionTree').show() #显示混淆矩阵可视化结果"
   ]
  },
  {
   "cell_type": "code",
   "execution_count": 5,
   "metadata": {},
   "outputs": [
    {
     "name": "stdout",
     "output_type": "stream",
     "text": [
      "[[ 0.  0.  0.  0.  0.  0.  0.  0.  0.  0.  0.  0.  0.  0.  0.  0.  0.  0.\n",
      "   0.  0.  0.  0.  0.  0.  0.  0.  0.  0.  0.  0.  0.  0.  0.  0.  0.]\n",
      " [ 0.  1.  0.  0.  0.  0.  0.  0.  0.  0.  0.  0.  0.  0.  0.  0.  0.  0.\n",
      "   0.  0.  0.  0.  0.  0.  0.  0.  0.  0.  0.  0.  0.  0.  0.  0.  0.]\n",
      " [ 0.  0.  2.  0.  0.  0.  0.  0.  0.  0.  0.  0.  0.  0.  0.  0.  0.  0.\n",
      "   0.  0.  0.  0.  0.  0.  0.  0.  0.  0.  0.  0.  0.  0.  0.  0.  0.]\n",
      " [ 0.  0.  0.  3.  0.  0.  0.  0.  0.  0.  0.  0.  0.  0.  0.  0.  0.  0.\n",
      "   0.  0.  0.  0.  0.  0.  0.  0.  0.  0.  0.  0.  0.  0.  0.  0.  0.]\n",
      " [ 0.  0.  0.  0.  4.  0.  0.  0.  0.  0.  0.  0.  0.  0.  0.  0.  0.  0.\n",
      "   0.  0.  0.  0.  0.  0.  0.  0.  0.  0.  0.  0.  0.  0.  0.  0.  0.]\n",
      " [ 0.  0.  0.  0.  0.  5.  0.  0.  0.  0.  0.  0.  0.  0.  0.  0.  0.  0.\n",
      "   0.  0.  0.  0.  0.  0.  0.  0.  0.  0.  0.  0.  0.  0.  0.  0.  0.]\n",
      " [ 0.  0.  0.  0.  0.  0.  6.  0.  0.  0.  0.  0.  0.  0.  0.  0.  0.  0.\n",
      "   0.  0.  0.  0.  0.  0.  0.  0.  0.  0.  0.  0.  0.  0.  0.  0.  0.]\n",
      " [ 0.  0.  0.  0.  0.  0.  0.  7.  0.  0.  0.  0.  0.  0.  0.  0.  0.  0.\n",
      "   0.  0.  0.  0.  0.  0.  0.  0.  0.  0.  0.  0.  0.  0.  0.  0.  0.]\n",
      " [ 0.  0.  0.  0.  0.  0.  0.  0.  8.  0.  0.  0.  0.  0.  0.  0.  0.  0.\n",
      "   0.  0.  0.  0.  0.  0.  0.  0.  0.  0.  0.  0.  0.  0.  0.  0.  0.]\n",
      " [ 0.  0.  0.  0.  0.  0.  0.  0.  0.  9.  0.  0.  0.  0.  0.  0.  0.  0.\n",
      "   0.  0.  0.  0.  0.  0.  0.  0.  0.  0.  0.  0.  0.  0.  0.  0.  0.]\n",
      " [ 0.  0.  0.  0.  0.  0.  0.  0.  0.  0. 10.  0.  0.  0.  0.  0.  0.  0.\n",
      "   0.  0.  0.  0.  0.  0.  0.  0.  0.  0.  0.  0.  0.  0.  0.  0.  0.]\n",
      " [ 0.  0.  0.  0.  0.  0.  0.  0.  0.  0.  0. 11.  0.  0.  0.  0.  0.  0.\n",
      "   0.  0.  0.  0.  0.  0.  0.  0.  0.  0.  0.  0.  0.  0.  0.  0.  0.]\n",
      " [ 0.  0.  0.  0.  0.  0.  0.  0.  0.  0.  0.  0. 12.  0.  0.  0.  0.  0.\n",
      "   0.  0.  0.  0.  0.  0.  0.  0.  0.  0.  0.  0.  0.  0.  0.  0.  0.]\n",
      " [ 0.  0.  0.  0.  0.  0.  0.  0.  0.  0.  0.  0.  0. 13.  0.  0.  0.  0.\n",
      "   0.  0.  0.  0.  0.  0.  0.  0.  0.  0.  0.  0.  0.  0.  0.  0.  0.]\n",
      " [ 0.  0.  0.  0.  0.  0.  0.  0.  0.  0.  0.  0.  0.  0. 14.  0.  0.  0.\n",
      "   0.  0.  0.  0.  0.  0.  0.  0.  0.  0.  0.  0.  0.  0.  0.  0.  0.]]\n",
      "[[ 0.  0.  0.  0.  0.  0.  0.  0.  0.  0.  0.  0.  0.  0.  0.  0.  0.  0.\n",
      "   0.  0.  0.  0.  0.  0.  0.  0.  0.  0.  0.  0.  0.  0.  0.  0.  0.]\n",
      " [ 0.  1.  0.  0.  0.  0.  0.  0.  0.  0.  0.  0.  0.  0.  0.  0.  0.  0.\n",
      "   0.  0.  0.  0.  0.  0.  0.  0.  0.  0.  0.  0.  0.  0.  0.  0.  0.]\n",
      " [ 0.  0.  2.  0.  0.  0.  0.  0.  0.  0.  0.  0.  0.  0.  0.  0.  0.  0.\n",
      "   0.  0.  0.  0.  0.  0.  0.  0.  0.  0.  0.  0.  0.  0.  0.  0.  0.]\n",
      " [ 0.  0.  0.  3.  0.  0.  0.  0.  0.  0.  0.  0.  0.  0.  0.  0.  0.  0.\n",
      "   0.  0.  0.  0.  0.  0.  0.  0.  0.  0.  0.  0.  0.  0.  0.  0.  0.]\n",
      " [ 0.  0.  0.  0.  4.  0.  0.  0.  0.  0.  0.  0.  0.  0.  0.  0.  0.  0.\n",
      "   0.  0.  0.  0.  0.  0.  0.  0.  0.  0.  0.  0.  0.  0.  0.  0.  0.]\n",
      " [ 0.  0.  0.  0.  0.  5.  0.  0.  0.  0.  0.  0.  0.  0.  0.  0.  0.  0.\n",
      "   0.  0.  0.  0.  0.  0.  0.  0.  0.  0.  0.  0.  0.  0.  0.  0.  0.]\n",
      " [ 0.  0.  0.  0.  0.  0.  6.  0.  0.  0.  0.  0.  0.  0.  0.  0.  0.  0.\n",
      "   0.  0.  0.  0.  0.  0.  0.  0.  0.  0.  0.  0.  0.  0.  0.  0.  0.]\n",
      " [ 0.  0.  0.  0.  0.  0.  0.  7.  0.  0.  0.  0.  0.  0.  0.  0.  0.  0.\n",
      "   0.  0.  0.  0.  0.  0.  0.  0.  0.  0.  0.  0.  0.  0.  0.  0.  0.]\n",
      " [ 0.  0.  0.  0.  0.  0.  0.  0.  8.  0.  0.  0.  0.  0.  0.  0.  0.  0.\n",
      "   0.  0.  0.  0.  0.  0.  0.  0.  0.  0.  0.  0.  0.  0.  0.  0.  0.]\n",
      " [ 0.  0.  0.  0.  0.  0.  0.  0.  0.  9.  0.  0.  0.  0.  0.  0.  0.  0.\n",
      "   0.  0.  0.  0.  0.  0.  0.  0.  0.  0.  0.  0.  0.  0.  0.  0.  0.]\n",
      " [ 0.  0.  0.  0.  0.  0.  0.  0.  0.  0. 10.  0.  0.  0.  0.  0.  0.  0.\n",
      "   0.  0.  0.  0.  0.  0.  0.  0.  0.  0.  0.  0.  0.  0.  0.  0.  0.]\n",
      " [ 0.  0.  0.  0.  0.  0.  0.  0.  0.  0.  0. 11.  0.  0.  0.  0.  0.  0.\n",
      "   0.  0.  0.  0.  0.  0.  0.  0.  0.  0.  0.  0.  0.  0.  0.  0.  0.]\n",
      " [ 0.  0.  0.  0.  0.  0.  0.  0.  0.  0.  0.  0. 12.  0.  0.  0.  0.  0.\n",
      "   0.  0.  0.  0.  0.  0.  0.  0.  0.  0.  0.  0.  0.  0.  0.  0.  0.]\n",
      " [ 0.  0.  0.  0.  0.  0.  0.  0.  0.  0.  0.  0.  0. 13.  0.  0.  0.  0.\n",
      "   0.  0.  0.  0.  0.  0.  0.  0.  0.  0.  0.  0.  0.  0.  0.  0.  0.]\n",
      " [ 0.  0.  0.  0.  0.  0.  0.  0.  0.  0.  0.  0.  0.  0. 14.  0.  0.  0.\n",
      "   0.  0.  0.  0.  0.  0.  0.  0.  0.  0.  0.  0.  0.  0.  0.  0.  0.]]\n"
     ]
    },
    {
     "data": {
      "image/png": "[encoded data removed]",
      "text/plain": [
       "<Figure size 672x288 with 1 Axes>"
      ]
     },
     "metadata": {},
     "output_type": "display_data"
    },
    {
     "data": {
      "image/png": "[encoded data removed]",
      "text/plain": [
       "<Figure size 672x288 with 1 Axes>"
      ]
     },
     "metadata": {},
     "output_type": "display_data"
    }
   ],
   "source": [
    "#plt.matshow用法\n",
    "import numpy as np\n",
    "\n",
    "\n",
    "def samplemat(dims):\n",
    "    \"\"\"Make a matrix with all zeros and increasing elements on the diagonal\"\"\" #定义一个矩阵\n",
    "    aa = np.zeros(dims)\n",
    "    for i in range(min(dims)):\n",
    "        aa[i, i] = i\n",
    "    return aa\n",
    "\n",
    "\n",
    "# Display matrix\n",
    "print(samplemat((15,35)))\n",
    "plt.matshow(samplemat((15, 35)),cmap=plt.cm.Greens) #dims=(15,35) #cmap也可不写，不写则为默认颜色\n",
    "\n",
    "plt.show()"
   ]
  },
  {
   "cell_type": "markdown",
   "metadata": {},
   "source": [
    "# 2 random forest"
   ]
  },
  {
   "cell_type": "code",
   "execution_count": 6,
   "metadata": {},
   "outputs": [],
   "source": [
    "import time\n",
    "from sklearn.metrics import confusion_matrix\n",
    "from sklearn.ensemble import RandomForestClassifier\n",
    "\n",
    "\n",
    "def RF_model(x_train, x_test, y_train, y_test):\n",
    "    #训练模型\n",
    "    start = time.time()\n",
    "    clf_model_RF = RandomForestClassifier(n_estimators=30,max_depth=15) #随即森林分类器\n",
    "    #参数说明：https://blog.csdn.net/u012102306/article/details/52228516\n",
    "    clf_model_RF.fit(x_train,y_train)\n",
    "    end = time.time()\n",
    "    print(\"Time usage: %s s\" %(end - start))\n",
    "    #评估模型\n",
    "    #confusion matrix\n",
    "    prediction_train = clf_model_RF.predict(x_train)\n",
    "    conf_mat_train = confusion_matrix(y_train, prediction_train)\n",
    "    prediction_test = clf_model_RF.predict(x_test)\n",
    "    conf_mat_test = confusion_matrix(y_test, prediction_test)\n",
    "    print('----RandomForest----')\n",
    "    print(\"Confusion matrix for training dataset is \\n %s \\n Confusion matrix for testing dataset is \\n %s.\" %(conf_mat_train, conf_mat_test))\n",
    "    \n",
    "    #accuracy\n",
    "    print(\"train accuracy:\", clf_model_RF.score(x_train, y_train))\n",
    "    print(\"test accuracy:\", clf_model_RF.score(x_test, y_test))\n",
    "    \n",
    "    precision_accuracy = conf_mat_test[1,1] / (conf_mat_test[1,1] + conf_mat_test[0,1])\n",
    "    print(\"Precision:\", precision_accuracy)\n",
    "    \n",
    "    recall_accuracy = conf_mat_test[1,1] / (conf_mat_test[1,1] + conf_mat_test[1,0])\n",
    "    print(\"Recall:\", recall_accuracy)\n",
    "    return prediction_test, conf_mat_test"
   ]
  },
  {
   "cell_type": "code",
   "execution_count": 7,
   "metadata": {},
   "outputs": [],
   "source": [
    "import matplotlib.pyplot as plt\n",
    "\n",
    "\n",
    "def cm_plot(conf_mat_test, title):\n",
    "    plt.matshow(conf_mat_test, cmap=plt.cm.Blues) #cm表示colormap\n",
    "    plt.colorbar()\n",
    "    for x in range(len(conf_mat_test)):\n",
    "        for y in range(len(conf_mat_test)):\n",
    "            plt.annotate(conf_mat_test[y,x], xy=(x, y), horizontalalignment='center', verticalalignment='center') #plt.annaotate图形中添加注释\n",
    "    plt.ylabel('True label')\n",
    "    plt.xlabel('Predicted label')\n",
    "    plt.title('%s'%title)\n",
    "    return plt"
   ]
  },
  {
   "cell_type": "code",
   "execution_count": 8,
   "metadata": {},
   "outputs": [
    {
     "name": "stdout",
     "output_type": "stream",
     "text": [
      "Time usage: 2.3170218467712402 s\n",
      "Time usage: 2.3170218467712402 s\n",
      "----RandomForest----\n",
      "Confusion matrix for training dataset is \n",
      " [[18399   352]\n",
      " [ 1907 16724]] \n",
      " Confusion matrix for testing dataset is \n",
      " [[4248  365]\n",
      " [ 826 3907]].\n",
      "train accuracy: 0.9395698464501632\n",
      "----RandomForest----\n",
      "Confusion matrix for training dataset is \n",
      " [[18399   352]\n",
      " [ 1907 16724]] \n",
      " Confusion matrix for testing dataset is \n",
      " [[4248  365]\n",
      " [ 826 3907]].\n",
      "train accuracy: 0.9395698464501632\n",
      "test accuracy: 0.8725658035523218\n",
      "Precision: 0.9145599250936329\n",
      "Recall: 0.8254806676526516\n",
      "test accuracy: 0.8725658035523218\n",
      "Precision: 0.9145599250936329\n",
      "Recall: 0.8254806676526516\n"
     ]
    },
    {
     "data": {
      "image/png": "[encoded data removed]",
      "text/plain": [
       "<Figure size 288x288 with 2 Axes>"
      ]
     },
     "metadata": {},
     "output_type": "display_data"
    },
    {
     "data": {
      "image/png": "[encoded data removed]",
      "text/plain": [
       "<Figure size 288x288 with 2 Axes>"
      ]
     },
     "metadata": {},
     "output_type": "display_data"
    }
   ],
   "source": [
    "if __name__ =='__main__':\n",
    "    x_train, x_test, y_train, y_test = get_data()\n",
    "    prediction_test, conf_mat_test = RF_model(x_train, x_test, y_train, y_test)\n",
    "    cm_plot(conf_mat_test, 'RandomForest').show() #显示混淆矩阵可视化结果"
   ]
  },
  {
   "cell_type": "markdown",
   "metadata": {},
   "source": [
    "# 3 梯度提升决策树(GBDT)"
   ]
  },
  {
   "cell_type": "code",
   "execution_count": 9,
   "metadata": {},
   "outputs": [],
   "source": [
    "import time\n",
    "from sklearn.metrics import confusion_matrix\n",
    "from sklearn.ensemble import GradientBoostingClassifier\n",
    "\n",
    "\n",
    "def GBDT_model(x_train, x_test, y_train, y_test):\n",
    "    #训练模型\n",
    "    start = time.time()\n",
    "    clf_model_GBDT = GradientBoostingClassifier(n_estimators=30,max_depth=15) #参数设说明：https://blog.csdn.net/han_xiaoyang/article/details/52663170\n",
    "    clf_model_GBDT.fit(x_train,y_train)\n",
    "    end = time.time()\n",
    "    print(\"Time usage: %s s\" %(end - start))\n",
    "    #评估模型\n",
    "    #confusion matrix\n",
    "    prediction_train = clf_model_GBDT.predict(x_train)\n",
    "    conf_mat_train = confusion_matrix(y_train, prediction_train)\n",
    "    prediction_test = clf_model_GBDT.predict(x_test)\n",
    "    conf_mat_test = confusion_matrix(y_test, prediction_test)\n",
    "    print('----GBDT----')\n",
    "    print(\"Confusion matrix for training dataset is \\n %s \\n Confusion matrix for testing dataset is \\n %s.\" %(conf_mat_train, conf_mat_test))\n",
    "    \n",
    "    #accuracy\n",
    "    print(\"train accuracy:\", clf_model_GBDT.score(x_train, y_train))\n",
    "    print(\"test accuracy:\", clf_model_GBDT.score(x_test, y_test))\n",
    "    \n",
    "    precision_accuracy = conf_mat_test[1,1] / (conf_mat_test[1,1] + conf_mat_test[0,1])\n",
    "    print(\"Precision:\", precision_accuracy)\n",
    "    \n",
    "    recall_accuracy = conf_mat_test[1,1] / (conf_mat_test[1,1] + conf_mat_test[1,0])\n",
    "    print(\"Recall:\", recall_accuracy)\n",
    "    return prediction_test, conf_mat_test"
   ]
  },
  {
   "cell_type": "code",
   "execution_count": 10,
   "metadata": {},
   "outputs": [],
   "source": [
    "import matplotlib.pyplot as plt\n",
    "\n",
    "\n",
    "def cm_plot(conf_mat_test, title):\n",
    "    plt.matshow(conf_mat_test, cmap=plt.cm.Blues) #cm表示colormap\n",
    "    plt.colorbar()\n",
    "    for x in range(len(conf_mat_test)):\n",
    "        for y in range(len(conf_mat_test)):\n",
    "            plt.annotate(conf_mat_test[y,x], xy=(x, y), horizontalalignment='center', verticalalignment='center') #plt.annaotate图形中添加注释\n",
    "    plt.ylabel('True label')\n",
    "    plt.xlabel('Predicted label')\n",
    "    plt.title('%s'%title)\n",
    "    return plt"
   ]
  },
  {
   "cell_type": "code",
   "execution_count": 11,
   "metadata": {},
   "outputs": [
    {
     "name": "stdout",
     "output_type": "stream",
     "text": [
      "Time usage: 100.03531289100647 s\n",
      "Time usage: 100.03531289100647 s\n",
      "----GBDT----\n",
      "Confusion matrix for training dataset is \n",
      " [[18703    48]\n",
      " [  282 18349]] \n",
      " Confusion matrix for testing dataset is \n",
      " [[4210  403]\n",
      " [ 777 3956]].\n",
      "train accuracy: 0.9911722219249907\n",
      "test accuracy: 0.8737427776588915\n",
      "Precision: 0.9075476026611609\n",
      "Recall: 0.8358335094020706\n",
      "----GBDT----\n",
      "Confusion matrix for training dataset is \n",
      " [[18703    48]\n",
      " [  282 18349]] \n",
      " Confusion matrix for testing dataset is \n",
      " [[4210  403]\n",
      " [ 777 3956]].\n",
      "train accuracy: 0.9911722219249907\n",
      "test accuracy: 0.8737427776588915\n",
      "Precision: 0.9075476026611609\n",
      "Recall: 0.8358335094020706\n"
     ]
    },
    {
     "data": {
      "image/png": "[encoded data removed]",
      "text/plain": [
       "<Figure size 288x288 with 2 Axes>"
      ]
     },
     "metadata": {},
     "output_type": "display_data"
    },
    {
     "data": {
      "image/png": "[encoded data removed]",
      "text/plain": [
       "<Figure size 288x288 with 2 Axes>"
      ]
     },
     "metadata": {},
     "output_type": "display_data"
    }
   ],
   "source": [
    "if __name__ =='__main__':\n",
    "    x_train, x_test, y_train, y_test = get_data()\n",
    "    prediction_test, conf_mat_test = GBDT_model(x_train, x_test, y_train, y_test)\n",
    "    cm_plot(conf_mat_test, 'GBDT').show() #显示混淆矩阵可视化结果"
   ]
  },
  {
   "cell_type": "markdown",
   "metadata": {},
   "source": [
    "# 4 logistic回归"
   ]
  },
  {
   "cell_type": "code",
   "execution_count": 12,
   "metadata": {},
   "outputs": [],
   "source": [
    "import time\n",
    "from sklearn.metrics import confusion_matrix\n",
    "from sklearn.linear_model import LogisticRegression\n",
    "\n",
    "\n",
    "def LR_model(x_train, x_test, y_train, y_test):\n",
    "    #训练模型\n",
    "    start = time.time()\n",
    "    clf_model_LR = LogisticRegression(C=1,penalty='l1') #参数说明：https://blog.csdn.net/jark_/article/details/78342644\n",
    "    clf_model_LR.fit(x_train,y_train)\n",
    "    end = time.time()\n",
    "    print(\"Time usage: %s s\" %(end - start))\n",
    "    #评估模型\n",
    "    #confusion matrix\n",
    "    prediction_train = clf_model_LR.predict(x_train)\n",
    "    conf_mat_train = confusion_matrix(y_train, prediction_train)\n",
    "    prediction_test = clf_model_LR.predict(x_test)\n",
    "    conf_mat_test = confusion_matrix(y_test, prediction_test)\n",
    "    print('----Logistic Regression----')\n",
    "    print(\"Confusion matrix for training dataset is \\n %s \\n Confusion matrix for testing dataset is \\n %s.\" %(conf_mat_train, conf_mat_test))\n",
    "    \n",
    "    #accuracy\n",
    "    print(\"train accuracy:\", clf_model_LR.score(x_train, y_train))\n",
    "    print(\"test accuracy:\", clf_model_LR.score(x_test, y_test))\n",
    "    \n",
    "    precision_accuracy = conf_mat_test[1,1] / (conf_mat_test[1,1] + conf_mat_test[0,1])\n",
    "    print(\"Precision:\", precision_accuracy)\n",
    "    \n",
    "    recall_accuracy = conf_mat_test[1,1] / (conf_mat_test[1,1] + conf_mat_test[1,0])\n",
    "    print(\"Recall:\", recall_accuracy)\n",
    "    return prediction_test, conf_mat_test"
   ]
  },
  {
   "cell_type": "code",
   "execution_count": 13,
   "metadata": {},
   "outputs": [],
   "source": [
    "import matplotlib.pyplot as plt\n",
    "\n",
    "\n",
    "def cm_plot(conf_mat_test, title):\n",
    "    plt.matshow(conf_mat_test, cmap=plt.cm.Blues) #cm表示colormap\n",
    "    plt.colorbar()\n",
    "    for x in range(len(conf_mat_test)):\n",
    "        for y in range(len(conf_mat_test)):\n",
    "            plt.annotate(conf_mat_test[y,x], xy=(x, y), horizontalalignment='center', verticalalignment='center') #plt.annaotate图形中添加注释\n",
    "    plt.ylabel('True label')\n",
    "    plt.xlabel('Predicted label')\n",
    "    plt.title('%s'%title)\n",
    "    return plt"
   ]
  },
  {
   "cell_type": "code",
   "execution_count": 14,
   "metadata": {},
   "outputs": [
    {
     "name": "stdout",
     "output_type": "stream",
     "text": [
      "Time usage: 1.5065701007843018 s\n",
      "----Logistic Regression----\n",
      "Confusion matrix for training dataset is \n",
      " [[13642  5109]\n",
      " [ 6291 12340]] \n",
      " Confusion matrix for testing dataset is \n",
      " [[3310 1303]\n",
      " [1564 3169]].\n",
      "train accuracy: 0.6950403937724038\n",
      "test accuracy: 0.693237748769527\n",
      "Precision: 0.7086314847942755\n",
      "Recall: 0.669554193957321\n",
      "Time usage: 1.5065701007843018 s\n",
      "----Logistic Regression----\n",
      "Confusion matrix for training dataset is \n",
      " [[13642  5109]\n",
      " [ 6291 12340]] \n",
      " Confusion matrix for testing dataset is \n",
      " [[3310 1303]\n",
      " [1564 3169]].\n",
      "train accuracy: 0.6950403937724038\n",
      "test accuracy: 0.693237748769527\n",
      "Precision: 0.7086314847942755\n",
      "Recall: 0.669554193957321\n"
     ]
    },
    {
     "data": {
      "image/png": "[encoded data removed]",
      "text/plain": [
       "<Figure size 288x288 with 2 Axes>"
      ]
     },
     "metadata": {},
     "output_type": "display_data"
    },
    {
     "data": {
      "image/png": "[encoded data removed]",
      "text/plain": [
       "<Figure size 288x288 with 2 Axes>"
      ]
     },
     "metadata": {},
     "output_type": "display_data"
    }
   ],
   "source": [
    "if __name__ =='__main__':\n",
    "    x_train, x_test, y_train, y_test = get_data()\n",
    "    prediction_test, conf_mat_test = LR_model(x_train, x_test, y_train, y_test)\n",
    "    cm_plot(conf_mat_test, 'Logistic Regression').show() #显示混淆矩阵可视化结果"
   ]
  },
  {
   "cell_type": "markdown",
   "metadata": {},
   "source": [
    "# 5 svm"
   ]
  },
  {
   "cell_type": "markdown",
   "metadata": {},
   "source": [
    "SVM运行太慢，用部分数据跑（原数据30000条，现用数据300条），数据为get_data_SVM( )"
   ]
  },
  {
   "cell_type": "code",
   "execution_count": 15,
   "metadata": {},
   "outputs": [],
   "source": [
    "import pandas as pd\n",
    "from sklearn.model_selection import train_test_split\n",
    "from imblearn.over_sampling import SMOTE\n",
    "\n",
    "\n",
    "def get_data_SVM():\n",
    "    data = pd.read_excel('/Users/ycy/Desktop/default_of_credit_card_clients_3.xls', skiprows=[0], header=0, index_col=[0])\n",
    "    x_feature = list(data.columns)\n",
    "    x_feature.remove('default payment next month')\n",
    "    x = data[x_feature]\n",
    "    y = data['default payment next month']\n",
    "    sm = SMOTE(random_state=42)# 处理过采样的方法\n",
    "    X, Y = sm.fit_sample(x, y)\n",
    "    x_train, x_test, y_train, y_test = train_test_split(X, Y, test_size =0.2, random_state =0)\n",
    "    return x_train, x_test, y_train, y_test"
   ]
  },
  {
   "cell_type": "code",
   "execution_count": 16,
   "metadata": {},
   "outputs": [],
   "source": [
    "import time\n",
    "from sklearn.metrics import confusion_matrix\n",
    "from sklearn import svm\n",
    "\n",
    "\n",
    "def SVM_model(x_train, x_test, y_train, y_test):\n",
    "    #训练模型\n",
    "    start = time.time()\n",
    "    clf_model_SVM = svm.SVC(C=0.1, kernel='linear', gamma='auto', decision_function_shape='ovr',class_weight='balanced')\n",
    "    #参数说明：https://blog.csdn.net/wusecaiyun/article/details/49681431   https://blog.csdn.net/bryan__/article/details/51506801\n",
    "    clf_model_SVM.fit(x_train,y_train)\n",
    "    end = time.time()\n",
    "    print(\"Time usage: %s s\" %(end - start))\n",
    "    #评估模型\n",
    "    #confusion matrix\n",
    "    prediction_train = clf_model_SVM.predict(x_train)\n",
    "    conf_mat_train = confusion_matrix(y_train, prediction_train)\n",
    "    prediction_test = clf_model_SVM.predict(x_test)\n",
    "    conf_mat_test = confusion_matrix(y_test, prediction_test)\n",
    "    print('----SVM----')\n",
    "    print(\"Confusion matrix for training dataset is \\n %s \\n Confusion matrix for testing dataset is \\n %s.\" %(conf_mat_train, conf_mat_test))\n",
    "    \n",
    "    #accuracy\n",
    "    print(\"train accuracy:\", clf_model_SVM.score(x_train, y_train))\n",
    "    print(\"test accuracy:\", clf_model_SVM.score(x_test, y_test))\n",
    "    \n",
    "    precision_accuracy = conf_mat_test[1,1] / (conf_mat_test[1,1] + conf_mat_test[0,1])\n",
    "    print(\"Precision:\", precision_accuracy)\n",
    "    \n",
    "    recall_accuracy = conf_mat_test[1,1] / (conf_mat_test[1,1] + conf_mat_test[1,0])\n",
    "    print(\"Recall:\", recall_accuracy)\n",
    "    return prediction_test, conf_mat_test"
   ]
  },
  {
   "cell_type": "code",
   "execution_count": 17,
   "metadata": {},
   "outputs": [],
   "source": [
    "import matplotlib.pyplot as plt\n",
    "\n",
    "\n",
    "def cm_plot(conf_mat_test, title):\n",
    "    plt.matshow(conf_mat_test, cmap=plt.cm.Blues) #cm表示colormap\n",
    "    plt.colorbar()\n",
    "    for x in range(len(conf_mat_test)):\n",
    "        for y in range(len(conf_mat_test)):\n",
    "            plt.annotate(conf_mat_test[y,x], xy=(x, y), horizontalalignment='center', verticalalignment='center') #plt.annaotate图形中添加注释\n",
    "    plt.ylabel('True label')\n",
    "    plt.xlabel('Predicted label')\n",
    "    plt.title('%s'%title)\n",
    "    return plt"
   ]
  },
  {
   "cell_type": "code",
   "execution_count": 18,
   "metadata": {},
   "outputs": [
    {
     "name": "stdout",
     "output_type": "stream",
     "text": [
      "Time usage: 283.4224042892456 s\n",
      "----SVM----\n",
      "Confusion matrix for training dataset is \n",
      " [[110  76]\n",
      " [ 47 136]] \n",
      " Confusion matrix for testing dataset is \n",
      " [[25 20]\n",
      " [11 37]].\n",
      "train accuracy: 0.6666666666666666\n",
      "test accuracy: 0.6666666666666666\n",
      "Precision: 0.6491228070175439\n",
      "Recall: 0.7708333333333334\n",
      "Time usage: 283.4224042892456 s\n",
      "----SVM----\n",
      "Confusion matrix for training dataset is \n",
      " [[110  76]\n",
      " [ 47 136]] \n",
      " Confusion matrix for testing dataset is \n",
      " [[25 20]\n",
      " [11 37]].\n",
      "train accuracy: 0.6666666666666666\n",
      "test accuracy: 0.6666666666666666\n",
      "Precision: 0.6491228070175439\n",
      "Recall: 0.7708333333333334\n"
     ]
    },
    {
     "data": {
      "image/png": "[encoded data removed]",
      "text/plain": [
       "<Figure size 288x288 with 2 Axes>"
      ]
     },
     "metadata": {},
     "output_type": "display_data"
    },
    {
     "data": {
      "image/png": "[encoded data removed]",
      "text/plain": [
       "<Figure size 288x288 with 2 Axes>"
      ]
     },
     "metadata": {},
     "output_type": "display_data"
    }
   ],
   "source": [
    "if __name__ =='__main__':\n",
    "    x_train, x_test, y_train, y_test = get_data_SVM()\n",
    "    prediction_test, conf_mat_test = SVM_model(x_train, x_test, y_train, y_test)\n",
    "    cm_plot(conf_mat_test, 'SVM').show() #显示混淆矩阵可视化结果"
   ]
  },
  {
   "cell_type": "markdown",
   "metadata": {},
   "source": [
    "# 6 XGBoost"
   ]
  },
  {
   "cell_type": "code",
   "execution_count": 19,
   "metadata": {},
   "outputs": [],
   "source": [
    "import time\n",
    "from sklearn.metrics import confusion_matrix\n",
    "from xgboost import XGBClassifier\n",
    "\n",
    "\n",
    "def XGB_model(x_train, x_test, y_train, y_test):\n",
    "    #训练模型\n",
    "    start = time.time()\n",
    "    # setup parameters for xgboost\n",
    "    params = {}\n",
    "    params['booster'] = 'gbtree'\n",
    "    params['objective'] = 'binary:logistic'\n",
    "    params[\"eval_metric\"] = \"auc\"\n",
    "    params['max_depth'] = 4\n",
    "    params['lambda'] = 10\n",
    "    params['min_child_weight'] = 2\n",
    "    params['subsample'] = 0.75\n",
    "    params['colsample_bytree'] = 0.75\n",
    "    params['eta'] = 0.025\n",
    "    params['silent'] = 1\n",
    "    params['seed'] = 0\n",
    "    params['nthread'] = 8\n",
    "    clf_model_XGB = xgb.XGBClassifier(params)\n",
    "    clf_model_XGB.fit(x_train,y_train)\n",
    "    end = time.time()\n",
    "    print(\"Time usage: %s s\" %(end - start))\n",
    "    #评估模型\n",
    "    #confusion matrix\n",
    "    prediction_train = clf_model_XGB.predict(x_train)\n",
    "    conf_mat_train = confusion_matrix(y_train, prediction_train)\n",
    "    prediction_test = clf_model_XGB.predict(x_test)\n",
    "    conf_mat_test = confusion_matrix(y_test, prediction_test)\n",
    "    print('----XGBoost----')\n",
    "    print(\"Confusion matrix for training dataset is \\n %s \\n Confusion matrix for testing dataset is \\n %s.\" %(conf_mat_train, conf_mat_test))\n",
    "    \n",
    "    #accuracy\n",
    "    print(\"train accuracy:\", clf_model_XGB.score(x_train, y_train))\n",
    "    print(\"test accuracy:\", clf_model_XGB.score(x_test, y_test))\n",
    "    \n",
    "    precision_accuracy = conf_mat_test[1,1] / (conf_mat_test[1,1] + conf_mat_test[0,1])\n",
    "    print(\"Precision:\", precision_accuracy)\n",
    "    \n",
    "    recall_accuracy = conf_mat_test[1,1] / (conf_mat_test[1,1] + conf_mat_test[1,0])\n",
    "    print(\"Recall:\", recall_accuracy)\n",
    "    return prediction_test, conf_mat_test"
   ]
  },
  {
   "cell_type": "code",
   "execution_count": 20,
   "metadata": {},
   "outputs": [],
   "source": [
    "import matplotlib.pyplot as plt\n",
    "\n",
    "\n",
    "def cm_plot(conf_mat_test, title):\n",
    "    plt.matshow(conf_mat_test, cmap=plt.cm.Blues) #cm表示colormap\n",
    "    plt.colorbar()\n",
    "    for x in range(len(conf_mat_test)):\n",
    "        for y in range(len(conf_mat_test)):\n",
    "            plt.annotate(conf_mat_test[y,x], xy=(x, y), horizontalalignment='center', verticalalignment='center') #plt.annaotate图形中添加注释\n",
    "    plt.ylabel('True label')\n",
    "    plt.xlabel('Predicted label')\n",
    "    plt.title('%s'%title)\n",
    "    return plt"
   ]
  },
  {
   "cell_type": "code",
   "execution_count": 21,
   "metadata": {},
   "outputs": [
    {
     "ename": "NameError",
     "evalue": "name 'xgb' is not defined",
     "output_type": "error",
     "traceback": [
      "\u001b[0;31m---------------------------------------------------------------------------\u001b[0m",
      "\u001b[0;31mNameError\u001b[0m                                 Traceback (most recent call last)",
      "\u001b[0;32m<ipython-input-21-7f829a80052e>\u001b[0m in \u001b[0;36m<module>\u001b[0;34m()\u001b[0m\n\u001b[1;32m      1\u001b[0m \u001b[0;32mif\u001b[0m \u001b[0m__name__\u001b[0m \u001b[0;34m==\u001b[0m\u001b[0;34m'__main__'\u001b[0m\u001b[0;34m:\u001b[0m\u001b[0;34m\u001b[0m\u001b[0m\n\u001b[1;32m      2\u001b[0m     \u001b[0mx_train\u001b[0m\u001b[0;34m,\u001b[0m \u001b[0mx_test\u001b[0m\u001b[0;34m,\u001b[0m \u001b[0my_train\u001b[0m\u001b[0;34m,\u001b[0m \u001b[0my_test\u001b[0m \u001b[0;34m=\u001b[0m \u001b[0mget_data\u001b[0m\u001b[0;34m(\u001b[0m\u001b[0;34m)\u001b[0m\u001b[0;34m\u001b[0m\u001b[0m\n\u001b[0;32m----> 3\u001b[0;31m     \u001b[0mprediction_test\u001b[0m\u001b[0;34m,\u001b[0m \u001b[0mconf_mat_test\u001b[0m \u001b[0;34m=\u001b[0m \u001b[0mXGB_model\u001b[0m\u001b[0;34m(\u001b[0m\u001b[0mx_train\u001b[0m\u001b[0;34m,\u001b[0m \u001b[0mx_test\u001b[0m\u001b[0;34m,\u001b[0m \u001b[0my_train\u001b[0m\u001b[0;34m,\u001b[0m \u001b[0my_test\u001b[0m\u001b[0;34m)\u001b[0m\u001b[0;34m\u001b[0m\u001b[0m\n\u001b[0m\u001b[1;32m      4\u001b[0m     \u001b[0mcm_plot\u001b[0m\u001b[0;34m(\u001b[0m\u001b[0mconf_mat_test\u001b[0m\u001b[0;34m,\u001b[0m \u001b[0;34m'XGBoost'\u001b[0m\u001b[0;34m)\u001b[0m\u001b[0;34m.\u001b[0m\u001b[0mshow\u001b[0m\u001b[0;34m(\u001b[0m\u001b[0;34m)\u001b[0m \u001b[0;31m#显示混淆矩阵可视化结果\u001b[0m\u001b[0;34m\u001b[0m\u001b[0m\n",
      "\u001b[0;32m<ipython-input-19-b7428a5efb2d>\u001b[0m in \u001b[0;36mXGB_model\u001b[0;34m(x_train, x_test, y_train, y_test)\u001b[0m\n\u001b[1;32m     21\u001b[0m     \u001b[0mparams\u001b[0m\u001b[0;34m[\u001b[0m\u001b[0;34m'seed'\u001b[0m\u001b[0;34m]\u001b[0m \u001b[0;34m=\u001b[0m \u001b[0;36m0\u001b[0m\u001b[0;34m\u001b[0m\u001b[0m\n\u001b[1;32m     22\u001b[0m     \u001b[0mparams\u001b[0m\u001b[0;34m[\u001b[0m\u001b[0;34m'nthread'\u001b[0m\u001b[0;34m]\u001b[0m \u001b[0;34m=\u001b[0m \u001b[0;36m8\u001b[0m\u001b[0;34m\u001b[0m\u001b[0m\n\u001b[0;32m---> 23\u001b[0;31m     \u001b[0mclf_model_XGB\u001b[0m \u001b[0;34m=\u001b[0m \u001b[0mxgb\u001b[0m\u001b[0;34m.\u001b[0m\u001b[0mXGBClassifier\u001b[0m\u001b[0;34m(\u001b[0m\u001b[0mparams\u001b[0m\u001b[0;34m)\u001b[0m\u001b[0;34m\u001b[0m\u001b[0m\n\u001b[0m\u001b[1;32m     24\u001b[0m     \u001b[0mclf_model_XGB\u001b[0m\u001b[0;34m.\u001b[0m\u001b[0mfit\u001b[0m\u001b[0;34m(\u001b[0m\u001b[0mx_train\u001b[0m\u001b[0;34m,\u001b[0m\u001b[0my_train\u001b[0m\u001b[0;34m)\u001b[0m\u001b[0;34m\u001b[0m\u001b[0m\n\u001b[1;32m     25\u001b[0m     \u001b[0mend\u001b[0m \u001b[0;34m=\u001b[0m \u001b[0mtime\u001b[0m\u001b[0;34m.\u001b[0m\u001b[0mtime\u001b[0m\u001b[0;34m(\u001b[0m\u001b[0;34m)\u001b[0m\u001b[0;34m\u001b[0m\u001b[0m\n",
      "\u001b[0;31mNameError\u001b[0m: name 'xgb' is not defined"
     ]
    },
    {
     "ename": "NameError",
     "evalue": "name 'xgb' is not defined",
     "output_type": "error",
     "traceback": [
      "\u001b[0;31m---------------------------------------------------------------------------\u001b[0m",
      "\u001b[0;31mNameError\u001b[0m                                 Traceback (most recent call last)",
      "\u001b[0;32m<ipython-input-21-7f829a80052e>\u001b[0m in \u001b[0;36m<module>\u001b[0;34m()\u001b[0m\n\u001b[1;32m      1\u001b[0m \u001b[0;32mif\u001b[0m \u001b[0m__name__\u001b[0m \u001b[0;34m==\u001b[0m\u001b[0;34m'__main__'\u001b[0m\u001b[0;34m:\u001b[0m\u001b[0;34m\u001b[0m\u001b[0m\n\u001b[1;32m      2\u001b[0m     \u001b[0mx_train\u001b[0m\u001b[0;34m,\u001b[0m \u001b[0mx_test\u001b[0m\u001b[0;34m,\u001b[0m \u001b[0my_train\u001b[0m\u001b[0;34m,\u001b[0m \u001b[0my_test\u001b[0m \u001b[0;34m=\u001b[0m \u001b[0mget_data\u001b[0m\u001b[0;34m(\u001b[0m\u001b[0;34m)\u001b[0m\u001b[0;34m\u001b[0m\u001b[0m\n\u001b[0;32m----> 3\u001b[0;31m     \u001b[0mprediction_test\u001b[0m\u001b[0;34m,\u001b[0m \u001b[0mconf_mat_test\u001b[0m \u001b[0;34m=\u001b[0m \u001b[0mXGB_model\u001b[0m\u001b[0;34m(\u001b[0m\u001b[0mx_train\u001b[0m\u001b[0;34m,\u001b[0m \u001b[0mx_test\u001b[0m\u001b[0;34m,\u001b[0m \u001b[0my_train\u001b[0m\u001b[0;34m,\u001b[0m \u001b[0my_test\u001b[0m\u001b[0;34m)\u001b[0m\u001b[0;34m\u001b[0m\u001b[0m\n\u001b[0m\u001b[1;32m      4\u001b[0m     \u001b[0mcm_plot\u001b[0m\u001b[0;34m(\u001b[0m\u001b[0mconf_mat_test\u001b[0m\u001b[0;34m,\u001b[0m \u001b[0;34m'XGBoost'\u001b[0m\u001b[0;34m)\u001b[0m\u001b[0;34m.\u001b[0m\u001b[0mshow\u001b[0m\u001b[0;34m(\u001b[0m\u001b[0;34m)\u001b[0m \u001b[0;31m#显示混淆矩阵可视化结果\u001b[0m\u001b[0;34m\u001b[0m\u001b[0m\n",
      "\u001b[0;32m<ipython-input-19-b7428a5efb2d>\u001b[0m in \u001b[0;36mXGB_model\u001b[0;34m(x_train, x_test, y_train, y_test)\u001b[0m\n\u001b[1;32m     21\u001b[0m     \u001b[0mparams\u001b[0m\u001b[0;34m[\u001b[0m\u001b[0;34m'seed'\u001b[0m\u001b[0;34m]\u001b[0m \u001b[0;34m=\u001b[0m \u001b[0;36m0\u001b[0m\u001b[0;34m\u001b[0m\u001b[0m\n\u001b[1;32m     22\u001b[0m     \u001b[0mparams\u001b[0m\u001b[0;34m[\u001b[0m\u001b[0;34m'nthread'\u001b[0m\u001b[0;34m]\u001b[0m \u001b[0;34m=\u001b[0m \u001b[0;36m8\u001b[0m\u001b[0;34m\u001b[0m\u001b[0m\n\u001b[0;32m---> 23\u001b[0;31m     \u001b[0mclf_model_XGB\u001b[0m \u001b[0;34m=\u001b[0m \u001b[0mxgb\u001b[0m\u001b[0;34m.\u001b[0m\u001b[0mXGBClassifier\u001b[0m\u001b[0;34m(\u001b[0m\u001b[0mparams\u001b[0m\u001b[0;34m)\u001b[0m\u001b[0;34m\u001b[0m\u001b[0m\n\u001b[0m\u001b[1;32m     24\u001b[0m     \u001b[0mclf_model_XGB\u001b[0m\u001b[0;34m.\u001b[0m\u001b[0mfit\u001b[0m\u001b[0;34m(\u001b[0m\u001b[0mx_train\u001b[0m\u001b[0;34m,\u001b[0m\u001b[0my_train\u001b[0m\u001b[0;34m)\u001b[0m\u001b[0;34m\u001b[0m\u001b[0m\n\u001b[1;32m     25\u001b[0m     \u001b[0mend\u001b[0m \u001b[0;34m=\u001b[0m \u001b[0mtime\u001b[0m\u001b[0;34m.\u001b[0m\u001b[0mtime\u001b[0m\u001b[0;34m(\u001b[0m\u001b[0;34m)\u001b[0m\u001b[0;34m\u001b[0m\u001b[0m\n",
      "\u001b[0;31mNameError\u001b[0m: name 'xgb' is not defined"
     ]
    }
   ],
   "source": [
    "if __name__ =='__main__':\n",
    "    x_train, x_test, y_train, y_test = get_data()\n",
    "    prediction_test, conf_mat_test = XGB_model(x_train, x_test, y_train, y_test)\n",
    "    cm_plot(conf_mat_test, 'XGBoost').show() #显示混淆矩阵可视化结果"
   ]
  },
  {
   "cell_type": "code",
   "execution_count": null,
   "metadata": {},
   "outputs": [],
   "source": []
  }
 ],
 "metadata": {
  "kernelspec": {
   "display_name": "Python 3",
   "language": "python",
   "name": "python3"
  },
  "language_info": {
   "codemirror_mode": {
    "name": "ipython",
    "version": 3
   },
   "file_extension": ".py",
   "mimetype": "text/x-python",
   "name": "python",
   "nbconvert_exporter": "python",
   "pygments_lexer": "ipython3",
   "version": "3.6.5"
  }
 },
 "nbformat": 4,
 "nbformat_minor": 2
}
